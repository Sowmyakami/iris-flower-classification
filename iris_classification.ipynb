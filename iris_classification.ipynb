{
 "cells": [
  {
   "cell_type": "markdown",
   "id": "aa448af3-5d8e-4c5a-b486-6c06a3a11ddb",
   "metadata": {},
   "source": [
    "# 🌸 Iris Flower Classification\n",
    "Classify iris flowers into Setosa, Versicolor, and Virginica using petal and sepal measurements."
   ]
  },
  {
   "cell_type": "code",
   "execution_count": 1,
   "id": "49e7f49e-f96d-4805-b96d-c68086e5ca8a",
   "metadata": {},
   "outputs": [
    {
     "ename": "ModuleNotFoundError",
     "evalue": "No module named 'pandas'",
     "output_type": "error",
     "traceback": [
      "\u001b[31m---------------------------------------------------------------------------\u001b[39m",
      "\u001b[31mModuleNotFoundError\u001b[39m                       Traceback (most recent call last)",
      "\u001b[36mCell\u001b[39m\u001b[36m \u001b[39m\u001b[32mIn[1]\u001b[39m\u001b[32m, line 1\u001b[39m\n\u001b[32m----> \u001b[39m\u001b[32m1\u001b[39m \u001b[38;5;28;01mimport\u001b[39;00m\u001b[38;5;250m \u001b[39m\u001b[34;01mpandas\u001b[39;00m\u001b[38;5;250m \u001b[39m\u001b[38;5;28;01mas\u001b[39;00m\u001b[38;5;250m \u001b[39m\u001b[34;01mpd\u001b[39;00m\n\u001b[32m      2\u001b[39m \u001b[38;5;28;01mimport\u001b[39;00m\u001b[38;5;250m \u001b[39m\u001b[34;01mseaborn\u001b[39;00m\u001b[38;5;250m \u001b[39m\u001b[38;5;28;01mas\u001b[39;00m\u001b[38;5;250m \u001b[39m\u001b[34;01msns\u001b[39;00m\n\u001b[32m      3\u001b[39m \u001b[38;5;28;01mimport\u001b[39;00m\u001b[38;5;250m \u001b[39m\u001b[34;01mmatplotlib\u001b[39;00m\u001b[34;01m.\u001b[39;00m\u001b[34;01mpyplot\u001b[39;00m\u001b[38;5;250m \u001b[39m\u001b[38;5;28;01mas\u001b[39;00m\u001b[38;5;250m \u001b[39m\u001b[34;01mplt\u001b[39;00m\n",
      "\u001b[31mModuleNotFoundError\u001b[39m: No module named 'pandas'"
     ]
    }
   ],
   "source": [
    "import pandas as pd\n",
    "import seaborn as sns\n",
    "import matplotlib.pyplot as plt\n",
    "from sklearn.model_selection import train_test_split\n",
    "from sklearn.linear_model import LogisticRegression\n",
    "from sklearn.neighbors import KNeighborsClassifier\n",
    "from sklearn.tree import DecisionTreeClassifier\n",
    "from sklearn.metrics import accuracy_score, classification_report, confusion_matrix"
   ]
  },
  {
   "cell_type": "code",
   "execution_count": null,
   "id": "cbf8b77f-8c6e-405e-a4d3-a7b23da72e14",
   "metadata": {},
   "outputs": [],
   "source": [
    "!pip install pandas seaborn matplotlib scikit-learn"
   ]
  },
  {
   "cell_type": "code",
   "execution_count": null,
   "id": "3831e362-39d8-4acc-83cd-55577e59b2f9",
   "metadata": {},
   "outputs": [],
   "source": [
    "import pandas as pd\n",
    "import seaborn as sns\n",
    "import matplotlib.pyplot as plt"
   ]
  },
  {
   "cell_type": "code",
   "execution_count": null,
   "id": "c47abc29-245a-4dd0-8892-e4be549537c2",
   "metadata": {},
   "outputs": [],
   "source": [
    "columns = ['sepal_length', 'sepal_width', 'petal_length', 'petal_width', 'species']\n",
    "df = pd.read_csv('C:/Users/Owner/Downloads/iris_data/iris.data', names=columns)\n",
    "df.head()"
   ]
  },
  {
   "cell_type": "code",
   "execution_count": null,
   "id": "975fd7c9-2ed1-4a41-b8fe-7b63142632fd",
   "metadata": {},
   "outputs": [],
   "source": [
    "sns.pairplot(df, hue='species')\n",
    "plt.suptitle(\"Iris Feature Relationships\", y=1.02)\n",
    "plt.show()"
   ]
  },
  {
   "cell_type": "code",
   "execution_count": null,
   "id": "082124c7-2e70-4768-b5a8-afee119619e0",
   "metadata": {},
   "outputs": [],
   "source": [
    "X = df.drop('species', axis=1)\n",
    "y = df['species']\n",
    "X_train, X_test, y_train, y_test = train_test_split(X, y, test_size=0.2, random_state=42)"
   ]
  },
  {
   "cell_type": "code",
   "execution_count": null,
   "id": "e2b48cf9-81e0-47a7-8f49-69fcfa85f41a",
   "metadata": {},
   "outputs": [],
   "source": [
    "lr_model = LogisticRegression(max_iter=200).fit(X_train, y_train)\n",
    "knn_model = KNeighborsClassifier().fit(X_train, y_train)\n",
    "dt_model = DecisionTreeClassifier().fit(X_train, y_train)"
   ]
  },
  {
   "cell_type": "code",
   "execution_count": null,
   "id": "f95aeddf-04d0-42cc-b5f1-58012cb7f314",
   "metadata": {},
   "outputs": [],
   "source": [
    "def evaluate(model, name):\n",
    "    y_pred = model.predict(X_test)\n",
    "    print(f\"\\n{name} Accuracy: {accuracy_score(y_test, y_pred):.2f}\")\n",
    "    print(f\"{name} Classification Report:\\n{classification_report(y_test, y_pred)}\")\n",
    "    print(f\"{name} Confusion Matrix:\\n{confusion_matrix(y_test, y_pred)}\")\n",
    "\n",
    "evaluate(lr_model, \"Logistic Regression\")\n",
    "evaluate(knn_model, \"K-Nearest Neighbors\")\n",
    "evaluate(dt_model, \"Decision Tree\")"
   ]
  },
  {
   "cell_type": "markdown",
   "id": "33198c0f-d5fb-4632-946e-8202114c9f32",
   "metadata": {},
   "source": [
    "## 🧠 Conclusion\n",
    "\n",
    "This project focused on classifying Iris flowers into three species — Setosa, Versicolor, and Virginica — using measurements of their petals and sepals. After loading and exploring the dataset visually, I trained three machine learning models: Logistic Regression, K-Nearest Neighbors, and Decision Tree.\n",
    "\n",
    "Among them, the **Decision Tree Classifier** performed the best. It offered both high accuracy and interpretability, making it ideal for understanding how feature splits lead to classification. The model's structure mirrors the natural branching of flowers, which felt fitting for this dataset.\n",
    "\n",
    "Through this project, I practiced:\n",
    "- Loading and cleaning numeric data\n",
    "- Visualizing feature relationships\n",
    "- Training and evaluating classification models\n",
    "- Interpreting performance metrics like accuracy and confusion matrix\n",
    "\n",
    "This notebook is now ready for GitHub and can serve as a strong portfolio piece. Future improvements could include hyperparameter tuning, cross-validation, or deploying the model as a simple web app."
   ]
  }
 ],
 "metadata": {
  "kernelspec": {
   "display_name": "Python 3 (ipykernel)",
   "language": "python",
   "name": "python3"
  },
  "language_info": {
   "codemirror_mode": {
    "name": "ipython",
    "version": 3
   },
   "file_extension": ".py",
   "mimetype": "text/x-python",
   "name": "python",
   "nbconvert_exporter": "python",
   "pygments_lexer": "ipython3",
   "version": "3.12.10"
  }
 },
 "nbformat": 4,
 "nbformat_minor": 5
}
